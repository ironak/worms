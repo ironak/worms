{
 "cells": [
  {
   "cell_type": "code",
   "execution_count": 143,
   "metadata": {},
   "outputs": [],
   "source": [
    "import numpy as np\n",
    "import scipy.io\n",
    "import networkx as nx\n",
    "import pandas as pd"
   ]
  },
  {
   "cell_type": "markdown",
   "metadata": {},
   "source": [
    "### Load in connectome information (neuron names and weighted directed graph of synapses)"
   ]
  },
  {
   "cell_type": "code",
   "execution_count": 144,
   "metadata": {},
   "outputs": [],
   "source": [
    "male_chemical_connectome = pd.read_excel(\"NIHMS1054987-supplement-Supplementary_files/Supplementary Information/SI 5 Connectome adjacency matrices.xlsx\", sheet_name=\"male chemical\")"
   ]
  },
  {
   "cell_type": "code",
   "execution_count": 145,
   "metadata": {},
   "outputs": [
    {
     "name": "stdout",
     "output_type": "stream",
     "text": [
      "[[nan 'I1L' 'I1R' 'I2L' 'I2R' 'I3' 'I4' 'I5']\n",
      " ['I1L' nan nan 10 nan 3 nan 2]\n",
      " ['I1R' nan nan nan 6 1 nan 2]\n",
      " ['I2L' 2 nan nan 3 nan 13 2]\n",
      " ['I2R' nan 1 3 nan nan 20 2]\n",
      " ['I3' 1 1 nan nan nan nan 2]\n",
      " ['I4' nan nan nan 7 nan nan 2]\n",
      " ['I5' 2 nan 3 1 1 7 nan]\n",
      " ['I6' nan 1 1 4 12 nan nan]\n",
      " ['M1' nan 1 3 2 8 1 2]\n",
      " ['M2L' nan nan nan nan 2 8 2]\n",
      " ['M2R' nan nan nan nan nan 1 3]\n",
      " ['M3L' nan nan nan nan nan nan nan]\n",
      " ['M3R' nan nan nan nan nan nan nan]\n",
      " ['M4' nan nan nan nan nan 5 1]\n",
      " ['M5' nan nan nan nan nan nan 1]\n",
      " ['MCL' nan nan nan nan nan nan nan]\n",
      " ['MCR' nan nan nan nan nan nan nan]\n",
      " ['MI' 1 nan nan nan 2 1 nan]]\n",
      "True\n"
     ]
    }
   ],
   "source": [
    "print(male_chemical_connectome.values[1:20,2:10])\n",
    "print(np.isnan(male_chemical_connectome.values[0,0]))"
   ]
  },
  {
   "cell_type": "code",
   "execution_count": 146,
   "metadata": {},
   "outputs": [],
   "source": [
    "table = male_chemical_connectome.values[1:,2:]"
   ]
  },
  {
   "cell_type": "code",
   "execution_count": 147,
   "metadata": {},
   "outputs": [
    {
     "name": "stdout",
     "output_type": "stream",
     "text": [
      "['VB02' 'VB03' 'VB04' 'VB05' 'VB06' 'VB07' 'VB08' 'VB09' 'VB10' 'VB11'\n",
      " 'VD01' 'VD02' 'VD03' 'VD04' 'VD05' 'VD06' 'VD07' 'VD08' 'VD09' 'VD10'\n",
      " 'VD11' 'VD12' 'VD13' 'CEMDL' 'CEMDR' 'CEMVL' 'CEMVR' 'MCML' 'MCMR' 'R1AL'\n",
      " 'R1AR' 'R1BL' 'R1BR' 'R2AL' 'R2AR' 'R2BL' 'R2BR' 'R3AL' 'R3AR' 'R3BL'\n",
      " 'R3BR' 'R4AL' 'R4AR' 'R4BL' 'R4BR' 'R5AL' 'R5AR' 'R5BL' 'R5BR' 'R6AL'\n",
      " 'R6AR' 'R6BL' 'R6BR' 'R7AL' 'R7AR' 'R7BL' 'R7BR' 'R8AL' 'R8AR' 'R8BL'\n",
      " 'R8BR' 'R9AL' 'R9AR' 'R9BL' 'R9BR' 'PHDL' 'PHDR' 'HOA' 'HOB' 'PCAL'\n",
      " 'PCAR' 'PCBL' 'PCBR' 'PCCL' 'PCCR' 'SPCL' 'SPCR' 'SPDL' 'SPDR' 'SPVL'\n",
      " 'SPVR' 'PVV' 'PVX' 'PVY' 'PVZ' 'DVE' 'DVF' 'DX1' 'DX2' 'DX3' 'EF1' 'EF2'\n",
      " 'EF3' 'PDC' 'PGA' 'CA01' 'CA02' 'CA03' 'CA04' 'CA05' 'CA06' 'CA07' 'CA08'\n",
      " 'CA09' 'CP01' 'CP02' 'CP03' 'CP04' 'CP05' 'CP06' 'CP07' 'CP08' 'CP09' nan]\n",
      "['I1L' 'I1R' 'I2L' 'I2R' 'I3' 'I4' 'I5' 'I6' 'M1']\n"
     ]
    }
   ],
   "source": [
    "print(table[270:400,0])\n",
    "print(table[0,1:10])"
   ]
  },
  {
   "cell_type": "code",
   "execution_count": 148,
   "metadata": {},
   "outputs": [],
   "source": [
    "neuron_names = set().union(table[1:,0], table[0,1:])\n",
    "neuron_names = {x for x in neuron_names if x == x} #remove nans\n",
    "neuron_names = sorted(list(neuron_names))"
   ]
  },
  {
   "cell_type": "code",
   "execution_count": 149,
   "metadata": {},
   "outputs": [
    {
     "name": "stdout",
     "output_type": "stream",
     "text": [
      "['ADAL', 'ADAR', 'ADEL', 'ADER', 'ADFL', 'ADFR', 'ADLL', 'ADLR', 'AFDL', 'AFDR']\n"
     ]
    }
   ],
   "source": [
    "print(neuron_names[:10])"
   ]
  },
  {
   "cell_type": "code",
   "execution_count": 150,
   "metadata": {},
   "outputs": [],
   "source": [
    "edge_list = []\n",
    "\n",
    "def isnan(x):\n",
    "    return isinstance(x, float) and np.isnan(x)\n",
    "\n",
    "for r in range(1,len(table)):\n",
    "    for c in range(1,len(table[r])):\n",
    "        if isnan(table[r][c]) or isnan(table[r][0]) or isnan(table[0][c]):\n",
    "            continue\n",
    "        edge_list.append((table[r][0], table[0][c], table[r][c]))"
   ]
  },
  {
   "cell_type": "code",
   "execution_count": 151,
   "metadata": {},
   "outputs": [
    {
     "name": "stdout",
     "output_type": "stream",
     "text": [
      "[('I1L', 'I2L', 10), ('I1L', 'I3', 3), ('I1L', 'I5', 2), ('I1L', 'I6', 1), ('I1L', 'M2L', 3), ('I1L', 'M3L', 8), ('I1L', 'M3R', 2), ('I1L', 'MCL', 2), ('I1L', 'MCR', 2), ('I1L', 'MI', 2)]\n"
     ]
    }
   ],
   "source": [
    "print(edge_list[:10])"
   ]
  },
  {
   "cell_type": "code",
   "execution_count": 152,
   "metadata": {},
   "outputs": [],
   "source": [
    "connectome = nx.DiGraph()\n",
    "connectome.add_weighted_edges_from(edge_list)"
   ]
  },
  {
   "cell_type": "code",
   "execution_count": 153,
   "metadata": {},
   "outputs": [
    {
     "name": "stdout",
     "output_type": "stream",
     "text": [
      "('I1L', {'I2L': {'weight': 10}, 'I3': {'weight': 3}, 'I5': {'weight': 2}, 'I6': {'weight': 1}, 'M2L': {'weight': 3}, 'M3L': {'weight': 8}, 'M3R': {'weight': 2}, 'MCL': {'weight': 2}, 'MCR': {'weight': 2}, 'MI': {'weight': 2}, 'NSML': {'weight': 3}, 'pm1': {'weight': 2}, 'pm3VL': {'weight': 7}, 'pm4D': {'weight': 1}, 'pm4VL': {'weight': 2}})\n",
      "['mc2DR', 'mc2V']\n",
      "['mc2DR', 'mc2V']\n",
      "['I1L', 'I1R', 'I2R', 'I3', 'M4', 'MI']\n"
     ]
    }
   ],
   "source": [
    "print(next(connectome.adjacency()))\n",
    "test_neuron = \"MCL\"\n",
    "print(list(connectome.neighbors(test_neuron)))\n",
    "print(list(connectome.successors(test_neuron)))\n",
    "print(list(connectome.predecessors(test_neuron)))\n"
   ]
  },
  {
   "cell_type": "markdown",
   "metadata": {},
   "source": [
    "### Load in neuron traces"
   ]
  },
  {
   "cell_type": "code",
   "execution_count": 154,
   "metadata": {},
   "outputs": [],
   "source": [
    "traces = scipy.io.loadmat('1554.mat')"
   ]
  },
  {
   "cell_type": "code",
   "execution_count": 155,
   "metadata": {},
   "outputs": [
    {
     "name": "stdout",
     "output_type": "stream",
     "text": [
      "(125000, 6)\n",
      "[ 0.016398  0.018987  0.021252 ... -0.140231 -0.143467 -0.145085]\n",
      "125000\n"
     ]
    }
   ],
   "source": [
    "print(np.shape(traces.get(\"rawdata\")))\n",
    "print(traces.get(\"rawdata\")[:,5])\n",
    "print(len(traces.get(\"rawdata\")[:,5]))"
   ]
  },
  {
   "cell_type": "code",
   "execution_count": 156,
   "metadata": {},
   "outputs": [],
   "source": [
    "# fake data (just for testing optimization - results from this are meaningless)\n",
    "\n",
    "def get_fake_trace():\n",
    "    channel = np.random.randint(1,6)\n",
    "    return traces.get(\"rawdata\")[:,channel]\n",
    "\n",
    "fake_traces = {}\n",
    "for neuron in neuron_names:\n",
    "    fake_traces[neuron] = get_fake_trace()"
   ]
  },
  {
   "cell_type": "code",
   "execution_count": 157,
   "metadata": {},
   "outputs": [
    {
     "name": "stdout",
     "output_type": "stream",
     "text": [
      "[ 0.006707  0.007354  0.007354  0.008325  0.008001  0.00606   0.003471\n",
      "  0.000559 -0.002354 -0.005589]\n",
      "<class 'numpy.ndarray'>\n"
     ]
    }
   ],
   "source": [
    "print(fake_traces['I1L'][:10])\n",
    "print(type(fake_traces['I1L'][:10]))"
   ]
  },
  {
   "cell_type": "code",
   "execution_count": 158,
   "metadata": {},
   "outputs": [],
   "source": [
    "DEFAULT_WINDOW_WIDTH = 20\n",
    "DEFAULT_SELF_RETENTION = 1      # 0 is completely linear"
   ]
  },
  {
   "cell_type": "code",
   "execution_count": 159,
   "metadata": {},
   "outputs": [],
   "source": [
    "def get_relevant_neurons(neuron):\n",
    "    return sorted(list(set().union([neuron], connectome.successors(neuron), connectome.predecessors(neuron))))"
   ]
  },
  {
   "cell_type": "code",
   "execution_count": 163,
   "metadata": {},
   "outputs": [
    {
     "name": "stdout",
     "output_type": "stream",
     "text": [
      "9\n",
      "['I1L', 'I1R', 'I2R', 'I3', 'M4', 'MCL', 'MI', 'mc2DR', 'mc2V']\n"
     ]
    }
   ],
   "source": [
    "print(len(get_relevant_neurons(test_neuron)))\n",
    "print(get_relevant_neurons(test_neuron))"
   ]
  },
  {
   "cell_type": "code",
   "execution_count": 171,
   "metadata": {},
   "outputs": [],
   "source": [
    "def get_relevant_history_vector(traces, neuron, t, w=DEFAULT_WINDOW_WIDTH):\n",
    "    if t-w < 0:\n",
    "        raise ValueError(f'Cannot construct large enough relevant history vector: time t = {t} is too early.')\n",
    "    relevant_neurons = get_relevant_neurons(neuron)\n",
    "    history = np.concatenate([traces[n][t-w:t] for n in relevant_neurons])\n",
    "    return history"
   ]
  },
  {
   "cell_type": "code",
   "execution_count": 172,
   "metadata": {},
   "outputs": [
    {
     "name": "stdout",
     "output_type": "stream",
     "text": [
      "180\n",
      "[0.135818 0.140024 0.143584 0.146172 0.148114 0.148761 0.148114 0.146172\n",
      " 0.14326  0.140995 0.137759 0.134523 0.13064  0.125139 0.119315 0.110902\n",
      " 0.100547 0.088898 0.077572 0.067217 0.135818 0.140024 0.143584 0.146172\n",
      " 0.148114 0.148761 0.148114 0.146172 0.14326  0.140995 0.137759 0.134523\n",
      " 0.13064  0.125139 0.119315 0.110902 0.100547 0.088898 0.077572 0.067217\n",
      " 0.106399 0.104135 0.101224 0.098636 0.095725 0.092814 0.090873 0.087962\n",
      " 0.085375 0.082463 0.079876 0.076965 0.074053 0.071466 0.069202 0.067261\n",
      " 0.064997 0.063379 0.061439 0.059498 0.062037 0.058155 0.054272 0.05136\n",
      " 0.048125 0.045213 0.042301 0.039066 0.03583  0.032271 0.029036 0.02483\n",
      " 0.021918 0.019006 0.016418 0.013506 0.010594 0.007358 0.004123 0.000887\n",
      " 0.062037 0.058155 0.054272 0.05136  0.048125 0.045213 0.042301 0.039066\n",
      " 0.03583  0.032271 0.029036 0.02483  0.021918 0.019006 0.016418 0.013506\n",
      " 0.010594 0.007358 0.004123 0.000887 0.037174 0.036528 0.034911 0.033294\n",
      " 0.031677 0.030707 0.028766 0.027796 0.027149 0.026503 0.025856 0.025209\n",
      " 0.024562 0.023915 0.023592 0.022945 0.022945 0.023269 0.023915 0.024562\n",
      " 0.037174 0.036528 0.034911 0.033294 0.031677 0.030707 0.028766 0.027796\n",
      " 0.027149 0.026503 0.025856 0.025209 0.024562 0.023915 0.023592 0.022945\n",
      " 0.022945 0.023269 0.023915 0.024562 0.062037 0.058155 0.054272 0.05136\n",
      " 0.048125 0.045213 0.042301 0.039066 0.03583  0.032271 0.029036 0.02483\n",
      " 0.021918 0.019006 0.016418 0.013506 0.010594 0.007358 0.004123 0.000887\n",
      " 0.037174 0.036528 0.034911 0.033294 0.031677 0.030707 0.028766 0.027796\n",
      " 0.027149 0.026503 0.025856 0.025209 0.024562 0.023915 0.023592 0.022945\n",
      " 0.022945 0.023269 0.023915 0.024562]\n"
     ]
    }
   ],
   "source": [
    "print(len(get_relevant_history_vector(fake_traces, test_neuron, 100)))\n",
    "print(get_relevant_history_vector(fake_traces, test_neuron, 100))"
   ]
  },
  {
   "cell_type": "code",
   "execution_count": 169,
   "metadata": {},
   "outputs": [],
   "source": [
    "def get_self_retention_vector(traces, neuron, t, r=DEFAULT_SELF_RETENTION):\n",
    "    if t-r < 0:\n",
    "        raise ValueError(f'Cannot construct large enough self-retention vector: time t = {t} is too early.')\n",
    "    return np.concatenate(([1],traces[neuron][t-r:t]))"
   ]
  },
  {
   "cell_type": "code",
   "execution_count": 170,
   "metadata": {},
   "outputs": [
    {
     "name": "stdout",
     "output_type": "stream",
     "text": [
      "[1.       0.024562]\n"
     ]
    }
   ],
   "source": [
    "print(get_self_retention_vector(fake_traces, test_neuron, 100))"
   ]
  },
  {
   "cell_type": "code",
   "execution_count": 199,
   "metadata": {},
   "outputs": [],
   "source": [
    "def next_value(update_matrix, traces, neuron, t, w=DEFAULT_WINDOW_WIDTH, r=DEFAULT_SELF_RETENTION):\n",
    "    rhv = get_relevant_history_vector(traces, neuron, t, w)\n",
    "    srv = get_self_retention_vector(traces, neuron, t, r)\n",
    "    if update_matrix.shape != (len(rhv),len(srv)):\n",
    "        raise ValueError(f'Update failed for neuron {neuron} at time t = {t}: Update matrix has shape {update_matrix.shape} but needs shape {(len(rhv),len(srv))}.')\n",
    "    return rhv @ update_matrix @ srv.T"
   ]
  },
  {
   "cell_type": "code",
   "execution_count": 203,
   "metadata": {},
   "outputs": [
    {
     "name": "stdout",
     "output_type": "stream",
     "text": [
      "78\n"
     ]
    }
   ],
   "source": [
    "a = np.array([[1,2,3],[4,5,6]])\n",
    "b = np.array([1,2])\n",
    "c = np.array([1,2,3])\n",
    "print(b @ a @ c.T)"
   ]
  },
  {
   "cell_type": "code",
   "execution_count": 201,
   "metadata": {},
   "outputs": [
    {
     "data": {
      "text/plain": [
       "10.466451019793995"
      ]
     },
     "execution_count": 201,
     "metadata": {},
     "output_type": "execute_result"
    }
   ],
   "source": [
    "update_matrix = np.ones((180,2))\n",
    "next_value(update_matrix, fake_traces, test_neuron, 100)"
   ]
  }
 ],
 "metadata": {
  "kernelspec": {
   "display_name": "worms",
   "language": "python",
   "name": "python3"
  },
  "language_info": {
   "codemirror_mode": {
    "name": "ipython",
    "version": 3
   },
   "file_extension": ".py",
   "mimetype": "text/x-python",
   "name": "python",
   "nbconvert_exporter": "python",
   "pygments_lexer": "ipython3",
   "version": "3.11.5"
  },
  "orig_nbformat": 4
 },
 "nbformat": 4,
 "nbformat_minor": 2
}
