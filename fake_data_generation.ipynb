{
 "cells": [
  {
   "cell_type": "code",
   "execution_count": 1,
   "metadata": {},
   "outputs": [],
   "source": [
    "import numpy as np\n",
    "import scipy.io\n",
    "import networkx as nx\n",
    "import pandas as pd\n",
    "from matplotlib import pyplot as plt\n",
    "import json"
   ]
  },
  {
   "cell_type": "markdown",
   "metadata": {},
   "source": [
    "### Fake Trace Data S1S2N1"
   ]
  },
  {
   "cell_type": "code",
   "execution_count": 7,
   "metadata": {},
   "outputs": [],
   "source": [
    "fake_trace_data = {}\n",
    "\n",
    "T = 2000\n",
    "wavelength_1 = 20\n",
    "phase_1 = 0\n",
    "wavelength_2 = 7\n",
    "phase_2 = 5\n",
    "delay_1 = 11\n",
    "delay_2 = 2\n",
    "\n",
    "S1_trace = np.random.normal(size=(T,)) # np.fromfunction(lambda t: np.sin((t+phase_1)*(2*np.pi)/wavelength_1)/(0.1*t+1), (T,), dtype=float)\n",
    "S2_trace = 0.1*np.fromfunction(lambda t: np.sin((t+phase_2)*(2*np.pi)/wavelength_2), (T,), dtype=float)\n",
    "N1_trace = np.concatenate((np.zeros(delay_1), S1_trace[:-delay_1])) + np.concatenate((np.zeros(delay_2), S2_trace[:-delay_2]))\n",
    "traces = np.stack((S1_trace, S2_trace, N1_trace))\n",
    "\n",
    "fake_trace_data['uid'] = 'fake data'\n",
    "fake_trace_data['trace_array'] = traces.tolist()\n",
    "fake_trace_data['num_neurons'] = 3\n",
    "fake_trace_data['labeled'] = {}\n",
    "for i,label in enumerate(['S1', 'S2', 'N1']):\n",
    "    fake_trace_data['labeled'][str(i+1)] = {'label':label}\n",
    "\n",
    "with open('datasets/fake_test_data/fake_traces.json', 'w') as outfile:\n",
    "    json.dump(fake_trace_data, outfile)"
   ]
  }
 ],
 "metadata": {
  "kernelspec": {
   "display_name": "worms",
   "language": "python",
   "name": "python3"
  },
  "language_info": {
   "codemirror_mode": {
    "name": "ipython",
    "version": 3
   },
   "file_extension": ".py",
   "mimetype": "text/x-python",
   "name": "python",
   "nbconvert_exporter": "python",
   "pygments_lexer": "ipython3",
   "version": "3.11.5"
  }
 },
 "nbformat": 4,
 "nbformat_minor": 2
}
