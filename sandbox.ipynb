{
 "cells": [
  {
   "cell_type": "code",
   "execution_count": 1,
   "metadata": {},
   "outputs": [],
   "source": [
    "import numpy as np\n",
    "import scipy.io\n",
    "import networkx as nx\n",
    "import pandas as pd\n",
    "from matplotlib import pyplot as plt\n",
    "from statsmodels.graphics.tsaplots import plot_acf"
   ]
  },
  {
   "cell_type": "markdown",
   "metadata": {},
   "source": [
    "### Use Dandi to access data via the internet"
   ]
  },
  {
   "cell_type": "code",
   "execution_count": 2,
   "metadata": {},
   "outputs": [],
   "source": [
    "from dandi.dandiapi import DandiAPIClient\n",
    "\n",
    "import fsspec\n",
    "import pynwb\n",
    "from pynwb import NWBHDF5IO\n",
    "import h5py\n",
    "from fsspec.implementations.cached import CachingFileSystem"
   ]
  },
  {
   "cell_type": "code",
   "execution_count": 3,
   "metadata": {},
   "outputs": [],
   "source": [
    "def get_dandi_asset_paths(dataset_id, version=\"draft\"):\n",
    "    paths = []\n",
    "    with DandiAPIClient() as client:\n",
    "        d = client.get(f\"/dandisets/{dataset_id}/versions/{version}/assets/\")\n",
    "        for asset in d[\"results\"]:\n",
    "            paths.append(asset[\"path\"])\n",
    "    return sorted(paths)"
   ]
  },
  {
   "cell_type": "code",
   "execution_count": 4,
   "metadata": {},
   "outputs": [
    {
     "name": "stderr",
     "output_type": "stream",
     "text": [
      "A newer version (0.56.2) of dandi/dandi-cli is available. You are using 0.56.1\n"
     ]
    },
    {
     "name": "stdout",
     "output_type": "stream",
     "text": [
      "21\n",
      "['sub-20190924-01/sub-20190924-01_ses-20190924_ophys.nwb', 'sub-20190924-02/sub-20190924-02_ses-20190924_ophys.nwb', 'sub-20190924-03/sub-20190924-03_ses-20190924_ophys.nwb', 'sub-20190925-01/sub-20190925-01_ses-20190925_ophys.nwb', 'sub-20190925-04/sub-20190925-04_ses-20190925_ophys.nwb', 'sub-20190928-01/sub-20190928-01_ses-20190928_ophys.nwb', 'sub-20190928-03/sub-20190928-03_ses-20190928_ophys.nwb', 'sub-20190928-05/sub-20190928-05_ses-20190928_ophys.nwb', 'sub-20190928-07/sub-20190928-07_ses-20190928_ophys.nwb', 'sub-20190928-08/sub-20190928-08_ses-20190928_ophys.nwb', 'sub-20190928-11/sub-20190928-11_ses-20190928_ophys.nwb', 'sub-20190928-13/sub-20190928-13_ses-20190928_ophys.nwb', 'sub-20190929-02/sub-20190929-02_ses-20190929_ophys.nwb', 'sub-20190929-03/sub-20190929-03_ses-20190929_ophys.nwb', 'sub-20190929-05/sub-20190929-05_ses-20190929_ophys.nwb', 'sub-20190929-06/sub-20190929-06_ses-20190929_ophys.nwb', 'sub-20190929-07/sub-20190929-07_ses-20190929_ophys.nwb', 'sub-20191030-03/sub-20191030-03_ses-20191030_ophys.nwb', 'sub-20191030-07/sub-20191030-07_ses-20191030_ophys.nwb', 'sub-20191104-08/sub-20191104-08_ses-20191104_ophys.nwb', 'sub-20191104-10/sub-20191104-10_ses-20191104_ophys.nwb']\n"
     ]
    }
   ],
   "source": [
    "print(len(get_dandi_asset_paths(\"000541\")))\n",
    "print(get_dandi_asset_paths(\"000541\"))"
   ]
  },
  {
   "cell_type": "code",
   "execution_count": 5,
   "metadata": {},
   "outputs": [],
   "source": [
    "# Source: https://pynwb.readthedocs.io/en/stable/tutorials/advanced_io/streaming.html#streaming\n",
    "\n",
    "# first, create a virtual filesystem based on the http protocol\n",
    "fs = fsspec.filesystem(\"http\")\n",
    "\n",
    "# create a cache to save downloaded data to disk (optional)\n",
    "fs = CachingFileSystem(\n",
    "    fs=fs,\n",
    "    cache_storage=\"nwb-cache\",  # Local folder for the cache\n",
    ")"
   ]
  },
  {
   "cell_type": "code",
   "execution_count": 6,
   "metadata": {},
   "outputs": [],
   "source": [
    "def get_dandi_and_do(dandiset_id, filepath, do_this=lambda x : None):\n",
    "    # Source: https://pynwb.readthedocs.io/en/stable/tutorials/advanced_io/streaming.html#streaming\n",
    "    # Docs: https://dandi.readthedocs.io/en/stable/modref/dandiapi.html\n",
    "    \n",
    "    with DandiAPIClient() as client:\n",
    "        asset = client.get_dandiset(dandiset_id, 'draft').get_asset_by_path(filepath)\n",
    "        s3_url = asset.get_content_url(follow_redirects=1, strip_query=True)\n",
    "\n",
    "    # next, open the file\n",
    "    with fs.open(s3_url, \"rb\") as f:\n",
    "        with h5py.File(f) as file:\n",
    "            with pynwb.NWBHDF5IO(file=file, load_namespaces=True) as io:\n",
    "                nwbfile = io.read()\n",
    "                output = do_this(nwbfile)\n",
    "\n",
    "    return output"
   ]
  },
  {
   "cell_type": "code",
   "execution_count": 7,
   "metadata": {},
   "outputs": [
    {
     "name": "stderr",
     "output_type": "stream",
     "text": [
      "/u/ronakr/installations/envs/worms/lib/python3.11/site-packages/hdmf/spec/namespace.py:531: UserWarning: Ignoring cached namespace 'hdmf-common' version 1.7.0 because version 1.8.0 is already loaded.\n",
      "  warn(\"Ignoring cached namespace '%s' version %s because version %s is already loaded.\"\n",
      "/u/ronakr/installations/envs/worms/lib/python3.11/site-packages/hdmf/spec/namespace.py:531: UserWarning: Ignoring cached namespace 'hdmf-experimental' version 0.4.0 because version 0.5.0 is already loaded.\n",
      "  warn(\"Ignoring cached namespace '%s' version %s because version %s is already loaded.\"\n"
     ]
    },
    {
     "name": "stdout",
     "output_type": "stream",
     "text": [
      "root pynwb.file.NWBFile at 0x139661839522576\n",
      "Fields:\n",
      "  acquisition: {\n",
      "    CalciumImageSeries <class 'abc.MultiChannelVolumeSeries'>,\n",
      "    NeuroPALImageRaw <class 'abc.MultiChannelVolume'>\n",
      "  }\n",
      "  devices: {\n",
      "    Spinning disk confocal <class 'pynwb.device.Device'>\n",
      "  }\n",
      "  experiment_description: NeuroPAL and whole-brain calcium imaging with chemical stimuli\n",
      "  experimenter: ['Yemini, Eviatar']\n",
      "  file_create_date: [datetime.datetime(2023, 8, 29, 14, 6, 49, 677701, tzinfo=tzoffset(None, -25200))]\n",
      "  identifier: 20190925_04\n",
      "  imaging_planes: {\n",
      "    CalciumImVol <class 'abc.ImagingVolume'>,\n",
      "    NeuroPALImVol <class 'abc.ImagingVolume'>\n",
      "  }\n",
      "  institution: Columbia University\n",
      "  lab: Hobert lab\n",
      "  processing: {\n",
      "    CalciumActivity <class 'pynwb.base.ProcessingModule'>,\n",
      "    NeuroPAL <class 'pynwb.base.ProcessingModule'>\n",
      "  }\n",
      "  related_publications: ['NeuroPAL: A Multicolor Atlas for Whole-Brain Neuronal Identification in C. elegans'\n",
      " 'Extracting neural signals from semi-immobilized animals with deformable non-negative matrix factorization']\n",
      "  session_description: C. elegans head NeuroPAL and Calcium imaging\n",
      "  session_start_time: 2019-09-25 00:00:00-07:00\n",
      "  subject: subject abc.CElegansSubject at 0x139661697970192\n",
      "Fields:\n",
      "  age__reference: birth\n",
      "  cultivation_temp: 20.0\n",
      "  date_of_birth: 2019-09-23 00:00:00-07:00\n",
      "  description: NeuroPAL worm in microfluidic chip\n",
      "  growth_stage: YA\n",
      "  sex: O\n",
      "  species: http://purl.obolibrary.org/obo/NCBITaxon_6239\n",
      "  strain: OH16230\n",
      "  subject_id: 20190925_04\n",
      "\n",
      "  timestamps_reference_time: 2019-09-25 00:00:00-07:00\n",
      "\n"
     ]
    }
   ],
   "source": [
    "get_dandi_and_do(\"000541\", get_dandi_asset_paths(\"000541\")[4], lambda nwbfile : print(nwbfile))"
   ]
  },
  {
   "cell_type": "code",
   "execution_count": 8,
   "metadata": {},
   "outputs": [],
   "source": [
    "def get_dandi_data(dandiset_id, filepath, data_slice=slice(None), do_this=lambda x : None):\n",
    "    return get_dandi_and_do(dandiset_id, filepath, lambda nwbfile : np.array(nwbfile.acquisition[\"CalciumImageSeries\"].data[data_slice]))"
   ]
  },
  {
   "cell_type": "code",
   "execution_count": 9,
   "metadata": {},
   "outputs": [
    {
     "name": "stdout",
     "output_type": "stream",
     "text": [
      "False\n"
     ]
    }
   ],
   "source": [
    "data = get_dandi_data(\"000541\", get_dandi_asset_paths(\"000541\")[3], (slice(300,320),slice(100,120),slice(100,120),0))\n",
    "print(data.any())"
   ]
  },
  {
   "cell_type": "code",
   "execution_count": 10,
   "metadata": {},
   "outputs": [
    {
     "name": "stdout",
     "output_type": "stream",
     "text": [
      "(962, 256, 128, 21)\n",
      "(962, 256, 128, 21)\n",
      "(963, 256, 128, 21)\n",
      "(963, 256, 128, 21)\n",
      "(961, 256, 128, 21)\n"
     ]
    }
   ],
   "source": [
    "for asset_path in get_dandi_asset_paths(\"000541\")[:5]:\n",
    "    shape = get_dandi_and_do(\"000541\", asset_path, lambda nwbfile: nwbfile.acquisition[\"CalciumImageSeries\"].data.shape)\n",
    "    print(shape)"
   ]
  },
  {
   "cell_type": "code",
   "execution_count": 11,
   "metadata": {},
   "outputs": [
    {
     "name": "stdout",
     "output_type": "stream",
     "text": [
      "True\n"
     ]
    }
   ],
   "source": [
    "# I kept getting 0s in the data so I picked a random data set and checked if it contains a single non-zero value. \n",
    "# This had the added benefit of caching the entire timeseries for asset 4, so I'll be using the 4th asset from now on for no reason other than that I have it cached already.\n",
    "\n",
    "nonzero = get_dandi_and_do(\"000541\", get_dandi_asset_paths(\"000541\")[4], lambda nwbfile: np.array(nwbfile.acquisition[\"CalciumImageSeries\"].data).any())\n",
    "print(nonzero)"
   ]
  },
  {
   "cell_type": "code",
   "execution_count": 12,
   "metadata": {},
   "outputs": [],
   "source": [
    "data = get_dandi_and_do(\"000541\", get_dandi_asset_paths(\"000541\")[4], lambda nwbfile: np.array(nwbfile.acquisition[\"CalciumImageSeries\"].data))"
   ]
  },
  {
   "cell_type": "code",
   "execution_count": 13,
   "metadata": {},
   "outputs": [
    {
     "name": "stdout",
     "output_type": "stream",
     "text": [
      "(961, 256, 128, 21)\n"
     ]
    }
   ],
   "source": [
    "print(data.shape)"
   ]
  },
  {
   "cell_type": "code",
   "execution_count": 14,
   "metadata": {},
   "outputs": [
    {
     "name": "stdout",
     "output_type": "stream",
     "text": [
      "[0.83309248 0.66775368 0.42467833]\n"
     ]
    },
    {
     "data": {
      "image/png": "[encoded data removed]",
      "text/plain": [
       "<Figure size 640x480 with 1 Axes>"
      ]
     },
     "metadata": {},
     "output_type": "display_data"
    },
    {
     "data": {
      "image/png": "[encoded data removed]",
      "text/plain": [
       "<Figure size 640x480 with 1 Axes>"
      ]
     },
     "metadata": {},
     "output_type": "display_data"
    },
    {
     "data": {
      "image/png": "[encoded data removed]",
      "text/plain": [
       "<Figure size 640x480 with 1 Axes>"
      ]
     },
     "metadata": {},
     "output_type": "display_data"
    },
    {
     "data": {
      "image/png": "[encoded data removed]",
      "text/plain": [
       "<Figure size 640x480 with 1 Axes>"
      ]
     },
     "metadata": {},
     "output_type": "display_data"
    }
   ],
   "source": [
    "a = np.random.rand(10,4,3,2)\n",
    "print(a[2,2,:,0])\n",
    "\n",
    "x = 52\n",
    "worm_index = 15\n",
    "a0 = data[:,x,x,worm_index]\n",
    "a1 = data[x,:,x,worm_index]\n",
    "a2 = data[x,x,:,worm_index]\n",
    "a_weird = data[x,x,x,:]\n",
    "\n",
    "for a in [a0, a1, a2, a_weird]:\n",
    "    plt.plot(a)\n",
    "    plt.show()"
   ]
  },
  {
   "cell_type": "code",
   "execution_count": 15,
   "metadata": {},
   "outputs": [
    {
     "ename": "FileNotFoundError",
     "evalue": "[Errno 2] No such file or directory: '/u/ronakr/VSCode SSH Workspace'",
     "output_type": "error",
     "traceback": [
      "\u001b[0;31m---------------------------------------------------------------------------\u001b[0m",
      "\u001b[0;31mFileNotFoundError\u001b[0m                         Traceback (most recent call last)",
      "\u001b[1;32m/u/ronakr/workspace/worms/sandbox.ipynb Cell 16\u001b[0m line \u001b[0;36m1\n\u001b[1;32m      <a href='vscode-notebook-cell://ssh-remote%2But/u/ronakr/workspace/worms/sandbox.ipynb#X21sdnNjb2RlLXJlbW90ZQ%3D%3D?line=6'>7</a>\u001b[0m     ax\u001b[39m.\u001b[39mimshow(data[:,i,:,\u001b[39m15\u001b[39m])\n\u001b[1;32m      <a href='vscode-notebook-cell://ssh-remote%2But/u/ronakr/workspace/worms/sandbox.ipynb#X21sdnNjb2RlLXJlbW90ZQ%3D%3D?line=8'>9</a>\u001b[0m anim \u001b[39m=\u001b[39m FuncAnimation(fig, update, frames\u001b[39m=\u001b[39m\u001b[39m100\u001b[39m, interval\u001b[39m=\u001b[39m\u001b[39m50\u001b[39m)\n\u001b[0;32m---> <a href='vscode-notebook-cell://ssh-remote%2But/u/ronakr/workspace/worms/sandbox.ipynb#X21sdnNjb2RlLXJlbW90ZQ%3D%3D?line=9'>10</a>\u001b[0m anim\u001b[39m.\u001b[39;49msave(\u001b[39m'\u001b[39;49m\u001b[39m/u/ronakr/VSCode SSH Workspace/worms/animation02.gif\u001b[39;49m\u001b[39m'\u001b[39;49m, writer\u001b[39m=\u001b[39;49m\u001b[39m'\u001b[39;49m\u001b[39mimagemagick\u001b[39;49m\u001b[39m'\u001b[39;49m, fps\u001b[39m=\u001b[39;49m\u001b[39m30\u001b[39;49m)\n\u001b[1;32m     <a href='vscode-notebook-cell://ssh-remote%2But/u/ronakr/workspace/worms/sandbox.ipynb#X21sdnNjb2RlLXJlbW90ZQ%3D%3D?line=11'>12</a>\u001b[0m \u001b[39m# plt.show()\u001b[39;00m\n",
      "File \u001b[0;32m~/installations/envs/worms/lib/python3.11/site-packages/matplotlib/animation.py:1085\u001b[0m, in \u001b[0;36mAnimation.save\u001b[0;34m(self, filename, writer, fps, dpi, codec, bitrate, extra_args, metadata, extra_anim, savefig_kwargs, progress_callback)\u001b[0m\n\u001b[1;32m   1081\u001b[0m savefig_kwargs[\u001b[39m'\u001b[39m\u001b[39mtransparent\u001b[39m\u001b[39m'\u001b[39m] \u001b[39m=\u001b[39m \u001b[39mFalse\u001b[39;00m   \u001b[39m# just to be safe!\u001b[39;00m\n\u001b[1;32m   1082\u001b[0m \u001b[39m# canvas._is_saving = True makes the draw_event animation-starting\u001b[39;00m\n\u001b[1;32m   1083\u001b[0m \u001b[39m# callback a no-op; canvas.manager = None prevents resizing the GUI\u001b[39;00m\n\u001b[1;32m   1084\u001b[0m \u001b[39m# widget (both are likewise done in savefig()).\u001b[39;00m\n\u001b[0;32m-> 1085\u001b[0m \u001b[39mwith\u001b[39;49;00m mpl\u001b[39m.\u001b[39;49mrc_context({\u001b[39m'\u001b[39;49m\u001b[39msavefig.bbox\u001b[39;49m\u001b[39m'\u001b[39;49m: \u001b[39mNone\u001b[39;49;00m}), \\\n\u001b[1;32m   1086\u001b[0m      writer\u001b[39m.\u001b[39;49msaving(\u001b[39mself\u001b[39;49m\u001b[39m.\u001b[39;49m_fig, filename, dpi), \\\n\u001b[1;32m   1087\u001b[0m      cbook\u001b[39m.\u001b[39;49m_setattr_cm(\u001b[39mself\u001b[39;49m\u001b[39m.\u001b[39;49m_fig\u001b[39m.\u001b[39;49mcanvas,\n\u001b[1;32m   1088\u001b[0m                        _is_saving\u001b[39m=\u001b[39;49m\u001b[39mTrue\u001b[39;49;00m, manager\u001b[39m=\u001b[39;49m\u001b[39mNone\u001b[39;49;00m):\n\u001b[1;32m   1089\u001b[0m     \u001b[39mfor\u001b[39;49;00m anim \u001b[39min\u001b[39;49;00m all_anim:\n\u001b[1;32m   1090\u001b[0m         anim\u001b[39m.\u001b[39;49m_init_draw()  \u001b[39m# Clear the initial frame\u001b[39;49;00m\n",
      "File \u001b[0;32m~/installations/envs/worms/lib/python3.11/contextlib.py:137\u001b[0m, in \u001b[0;36m_GeneratorContextManager.__enter__\u001b[0;34m(self)\u001b[0m\n\u001b[1;32m    135\u001b[0m \u001b[39mdel\u001b[39;00m \u001b[39mself\u001b[39m\u001b[39m.\u001b[39margs, \u001b[39mself\u001b[39m\u001b[39m.\u001b[39mkwds, \u001b[39mself\u001b[39m\u001b[39m.\u001b[39mfunc\n\u001b[1;32m    136\u001b[0m \u001b[39mtry\u001b[39;00m:\n\u001b[0;32m--> 137\u001b[0m     \u001b[39mreturn\u001b[39;00m \u001b[39mnext\u001b[39m(\u001b[39mself\u001b[39m\u001b[39m.\u001b[39mgen)\n\u001b[1;32m    138\u001b[0m \u001b[39mexcept\u001b[39;00m \u001b[39mStopIteration\u001b[39;00m:\n\u001b[1;32m    139\u001b[0m     \u001b[39mraise\u001b[39;00m \u001b[39mRuntimeError\u001b[39;00m(\u001b[39m\"\u001b[39m\u001b[39mgenerator didn\u001b[39m\u001b[39m'\u001b[39m\u001b[39mt yield\u001b[39m\u001b[39m\"\u001b[39m) \u001b[39mfrom\u001b[39;00m \u001b[39mNone\u001b[39;00m\n",
      "File \u001b[0;32m~/installations/envs/worms/lib/python3.11/site-packages/matplotlib/animation.py:231\u001b[0m, in \u001b[0;36mAbstractMovieWriter.saving\u001b[0;34m(self, fig, outfile, dpi, *args, **kwargs)\u001b[0m\n\u001b[1;32m    225\u001b[0m \u001b[39m\u001b[39m\u001b[39m\"\"\"\u001b[39;00m\n\u001b[1;32m    226\u001b[0m \u001b[39mContext manager to facilitate writing the movie file.\u001b[39;00m\n\u001b[1;32m    227\u001b[0m \n\u001b[1;32m    228\u001b[0m \u001b[39m``*args, **kw`` are any parameters that should be passed to `setup`.\u001b[39;00m\n\u001b[1;32m    229\u001b[0m \u001b[39m\"\"\"\u001b[39;00m\n\u001b[1;32m    230\u001b[0m \u001b[39m# This particular sequence is what contextlib.contextmanager wants\u001b[39;00m\n\u001b[0;32m--> 231\u001b[0m \u001b[39mself\u001b[39;49m\u001b[39m.\u001b[39;49msetup(fig, outfile, dpi, \u001b[39m*\u001b[39;49margs, \u001b[39m*\u001b[39;49m\u001b[39m*\u001b[39;49mkwargs)\n\u001b[1;32m    232\u001b[0m \u001b[39mtry\u001b[39;00m:\n\u001b[1;32m    233\u001b[0m     \u001b[39myield\u001b[39;00m \u001b[39mself\u001b[39m\n",
      "File \u001b[0;32m~/installations/envs/worms/lib/python3.11/site-packages/matplotlib/animation.py:316\u001b[0m, in \u001b[0;36mMovieWriter.setup\u001b[0;34m(self, fig, outfile, dpi)\u001b[0m\n\u001b[1;32m    314\u001b[0m \u001b[39mdef\u001b[39;00m \u001b[39msetup\u001b[39m(\u001b[39mself\u001b[39m, fig, outfile, dpi\u001b[39m=\u001b[39m\u001b[39mNone\u001b[39;00m):\n\u001b[1;32m    315\u001b[0m     \u001b[39m# docstring inherited\u001b[39;00m\n\u001b[0;32m--> 316\u001b[0m     \u001b[39msuper\u001b[39;49m()\u001b[39m.\u001b[39;49msetup(fig, outfile, dpi\u001b[39m=\u001b[39;49mdpi)\n\u001b[1;32m    317\u001b[0m     \u001b[39mself\u001b[39m\u001b[39m.\u001b[39m_w, \u001b[39mself\u001b[39m\u001b[39m.\u001b[39m_h \u001b[39m=\u001b[39m \u001b[39mself\u001b[39m\u001b[39m.\u001b[39m_adjust_frame_size()\n\u001b[1;32m    318\u001b[0m     \u001b[39m# Run here so that grab_frame() can write the data to a pipe. This\u001b[39;00m\n\u001b[1;32m    319\u001b[0m     \u001b[39m# eliminates the need for temp files.\u001b[39;00m\n",
      "File \u001b[0;32m~/installations/envs/worms/lib/python3.11/site-packages/matplotlib/animation.py:197\u001b[0m, in \u001b[0;36mAbstractMovieWriter.setup\u001b[0;34m(self, fig, outfile, dpi)\u001b[0m\n\u001b[1;32m    183\u001b[0m \u001b[39m\u001b[39m\u001b[39m\"\"\"\u001b[39;00m\n\u001b[1;32m    184\u001b[0m \u001b[39mSetup for writing the movie file.\u001b[39;00m\n\u001b[1;32m    185\u001b[0m \n\u001b[0;32m   (...)\u001b[0m\n\u001b[1;32m    194\u001b[0m \u001b[39m    in pixels of the resulting movie file.\u001b[39;00m\n\u001b[1;32m    195\u001b[0m \u001b[39m\"\"\"\u001b[39;00m\n\u001b[1;32m    196\u001b[0m \u001b[39m# Check that path is valid\u001b[39;00m\n\u001b[0;32m--> 197\u001b[0m Path(outfile)\u001b[39m.\u001b[39;49mparent\u001b[39m.\u001b[39;49mresolve(strict\u001b[39m=\u001b[39;49m\u001b[39mTrue\u001b[39;49;00m)\n\u001b[1;32m    198\u001b[0m \u001b[39mself\u001b[39m\u001b[39m.\u001b[39moutfile \u001b[39m=\u001b[39m outfile\n\u001b[1;32m    199\u001b[0m \u001b[39mself\u001b[39m\u001b[39m.\u001b[39mfig \u001b[39m=\u001b[39m fig\n",
      "File \u001b[0;32m~/installations/envs/worms/lib/python3.11/pathlib.py:993\u001b[0m, in \u001b[0;36mPath.resolve\u001b[0;34m(self, strict)\u001b[0m\n\u001b[1;32m    990\u001b[0m         \u001b[39mraise\u001b[39;00m \u001b[39mRuntimeError\u001b[39;00m(\u001b[39m\"\u001b[39m\u001b[39mSymlink loop from \u001b[39m\u001b[39m%r\u001b[39;00m\u001b[39m\"\u001b[39m \u001b[39m%\u001b[39m e\u001b[39m.\u001b[39mfilename)\n\u001b[1;32m    992\u001b[0m \u001b[39mtry\u001b[39;00m:\n\u001b[0;32m--> 993\u001b[0m     s \u001b[39m=\u001b[39m os\u001b[39m.\u001b[39;49mpath\u001b[39m.\u001b[39;49mrealpath(\u001b[39mself\u001b[39;49m, strict\u001b[39m=\u001b[39;49mstrict)\n\u001b[1;32m    994\u001b[0m \u001b[39mexcept\u001b[39;00m \u001b[39mOSError\u001b[39;00m \u001b[39mas\u001b[39;00m e:\n\u001b[1;32m    995\u001b[0m     check_eloop(e)\n",
      "File \u001b[0;32m<frozen posixpath>:416\u001b[0m, in \u001b[0;36mrealpath\u001b[0;34m(filename, strict)\u001b[0m\n",
      "File \u001b[0;32m<frozen posixpath>:451\u001b[0m, in \u001b[0;36m_joinrealpath\u001b[0;34m(path, rest, strict, seen)\u001b[0m\n",
      "\u001b[0;31mFileNotFoundError\u001b[0m: [Errno 2] No such file or directory: '/u/ronakr/VSCode SSH Workspace'"
     ]
    },
    {
     "data": {
      "image/png": "[encoded data removed]",
      "text/plain": [
       "<Figure size 640x480 with 1 Axes>"
      ]
     },
     "metadata": {},
     "output_type": "display_data"
    }
   ],
   "source": [
    "from matplotlib.animation import FuncAnimation\n",
    "\n",
    "# %matplotlib ipympl\n",
    "fig, ax = plt.subplots()\n",
    "\n",
    "def update(i):\n",
    "    ax.imshow(data[:,i,:,15])\n",
    "\n",
    "anim = FuncAnimation(fig, update, frames=100, interval=50)\n",
    "anim.save('/u/ronakr/VSCode SSH Workspace/worms/animation02.gif', writer='imagemagick', fps=30)\n",
    "\n",
    "# plt.show()"
   ]
  },
  {
   "cell_type": "markdown",
   "metadata": {},
   "source": [
    "### Load in connectome information (neuron names and weighted directed graph of synapses)"
   ]
  },
  {
   "cell_type": "code",
   "execution_count": 16,
   "metadata": {},
   "outputs": [],
   "source": [
    "male_chemical_connectome = pd.read_excel(\"datasets/NIHMS1054987-supplement-Supplementary_files/Supplementary Information/SI 5 Connectome adjacency matrices.xlsx\", sheet_name=\"male chemical\")"
   ]
  },
  {
   "cell_type": "code",
   "execution_count": 17,
   "metadata": {},
   "outputs": [
    {
     "name": "stdout",
     "output_type": "stream",
     "text": [
      "[[nan 'I1L' 'I1R' 'I2L' 'I2R' 'I3' 'I4' 'I5']\n",
      " ['I1L' nan nan 10 nan 3 nan 2]\n",
      " ['I1R' nan nan nan 6 1 nan 2]\n",
      " ['I2L' 2 nan nan 3 nan 13 2]\n",
      " ['I2R' nan 1 3 nan nan 20 2]\n",
      " ['I3' 1 1 nan nan nan nan 2]\n",
      " ['I4' nan nan nan 7 nan nan 2]\n",
      " ['I5' 2 nan 3 1 1 7 nan]\n",
      " ['I6' nan 1 1 4 12 nan nan]\n",
      " ['M1' nan 1 3 2 8 1 2]\n",
      " ['M2L' nan nan nan nan 2 8 2]\n",
      " ['M2R' nan nan nan nan nan 1 3]\n",
      " ['M3L' nan nan nan nan nan nan nan]\n",
      " ['M3R' nan nan nan nan nan nan nan]\n",
      " ['M4' nan nan nan nan nan 5 1]\n",
      " ['M5' nan nan nan nan nan nan 1]\n",
      " ['MCL' nan nan nan nan nan nan nan]\n",
      " ['MCR' nan nan nan nan nan nan nan]\n",
      " ['MI' 1 nan nan nan 2 1 nan]]\n",
      "True\n"
     ]
    }
   ],
   "source": [
    "print(male_chemical_connectome.values[1:20,2:10])\n",
    "print(np.isnan(male_chemical_connectome.values[0,0]))"
   ]
  },
  {
   "cell_type": "code",
   "execution_count": 18,
   "metadata": {},
   "outputs": [],
   "source": [
    "table = male_chemical_connectome.values[1:,2:]"
   ]
  },
  {
   "cell_type": "code",
   "execution_count": 19,
   "metadata": {},
   "outputs": [
    {
     "name": "stdout",
     "output_type": "stream",
     "text": [
      "['VB02' 'VB03' 'VB04' 'VB05' 'VB06' 'VB07' 'VB08' 'VB09' 'VB10' 'VB11'\n",
      " 'VD01' 'VD02' 'VD03' 'VD04' 'VD05' 'VD06' 'VD07' 'VD08' 'VD09' 'VD10'\n",
      " 'VD11' 'VD12' 'VD13' 'CEMDL' 'CEMDR' 'CEMVL' 'CEMVR' 'MCML' 'MCMR' 'R1AL'\n",
      " 'R1AR' 'R1BL' 'R1BR' 'R2AL' 'R2AR' 'R2BL' 'R2BR' 'R3AL' 'R3AR' 'R3BL'\n",
      " 'R3BR' 'R4AL' 'R4AR' 'R4BL' 'R4BR' 'R5AL' 'R5AR' 'R5BL' 'R5BR' 'R6AL'\n",
      " 'R6AR' 'R6BL' 'R6BR' 'R7AL' 'R7AR' 'R7BL' 'R7BR' 'R8AL' 'R8AR' 'R8BL'\n",
      " 'R8BR' 'R9AL' 'R9AR' 'R9BL' 'R9BR' 'PHDL' 'PHDR' 'HOA' 'HOB' 'PCAL'\n",
      " 'PCAR' 'PCBL' 'PCBR' 'PCCL' 'PCCR' 'SPCL' 'SPCR' 'SPDL' 'SPDR' 'SPVL'\n",
      " 'SPVR' 'PVV' 'PVX' 'PVY' 'PVZ' 'DVE' 'DVF' 'DX1' 'DX2' 'DX3' 'EF1' 'EF2'\n",
      " 'EF3' 'PDC' 'PGA' 'CA01' 'CA02' 'CA03' 'CA04' 'CA05' 'CA06' 'CA07' 'CA08'\n",
      " 'CA09' 'CP01' 'CP02' 'CP03' 'CP04' 'CP05' 'CP06' 'CP07' 'CP08' 'CP09' nan]\n",
      "['I1L' 'I1R' 'I2L' 'I2R' 'I3' 'I4' 'I5' 'I6' 'M1']\n"
     ]
    }
   ],
   "source": [
    "print(table[270:400,0])\n",
    "print(table[0,1:10])"
   ]
  },
  {
   "cell_type": "code",
   "execution_count": 20,
   "metadata": {},
   "outputs": [],
   "source": [
    "neuron_names = set().union(table[1:,0], table[0,1:])\n",
    "neuron_names = {x for x in neuron_names if x == x} #remove nans\n",
    "neuron_names = sorted(list(neuron_names))"
   ]
  },
  {
   "cell_type": "code",
   "execution_count": 21,
   "metadata": {},
   "outputs": [
    {
     "name": "stdout",
     "output_type": "stream",
     "text": [
      "['ADAL', 'ADAR', 'ADEL', 'ADER', 'ADFL', 'ADFR', 'ADLL', 'ADLR', 'AFDL', 'AFDR']\n"
     ]
    }
   ],
   "source": [
    "print(neuron_names[:10])"
   ]
  },
  {
   "cell_type": "code",
   "execution_count": 22,
   "metadata": {},
   "outputs": [],
   "source": [
    "edge_list = []\n",
    "\n",
    "def isnan(x):\n",
    "    return isinstance(x, float) and np.isnan(x)\n",
    "\n",
    "for r in range(1,len(table)):\n",
    "    for c in range(1,len(table[r])):\n",
    "        if isnan(table[r][c]) or isnan(table[r][0]) or isnan(table[0][c]):\n",
    "            continue\n",
    "        edge_list.append((table[r][0], table[0][c], table[r][c]))"
   ]
  },
  {
   "cell_type": "code",
   "execution_count": 23,
   "metadata": {},
   "outputs": [
    {
     "name": "stdout",
     "output_type": "stream",
     "text": [
      "[('I1L', 'I2L', 10), ('I1L', 'I3', 3), ('I1L', 'I5', 2), ('I1L', 'I6', 1), ('I1L', 'M2L', 3), ('I1L', 'M3L', 8), ('I1L', 'M3R', 2), ('I1L', 'MCL', 2), ('I1L', 'MCR', 2), ('I1L', 'MI', 2)]\n"
     ]
    }
   ],
   "source": [
    "print(edge_list[:10])"
   ]
  },
  {
   "cell_type": "code",
   "execution_count": 24,
   "metadata": {},
   "outputs": [],
   "source": [
    "connectome = nx.DiGraph()\n",
    "connectome.add_weighted_edges_from(edge_list)"
   ]
  },
  {
   "cell_type": "code",
   "execution_count": 28,
   "metadata": {},
   "outputs": [
    {
     "name": "stdout",
     "output_type": "stream",
     "text": [
      "('I1L', {'I2L': {'weight': 10}, 'I3': {'weight': 3}, 'I5': {'weight': 2}, 'I6': {'weight': 1}, 'M2L': {'weight': 3}, 'M3L': {'weight': 8}, 'M3R': {'weight': 2}, 'MCL': {'weight': 2}, 'MCR': {'weight': 2}, 'MI': {'weight': 2}, 'NSML': {'weight': 3}, 'pm1': {'weight': 2}, 'pm3VL': {'weight': 7}, 'pm4D': {'weight': 1}, 'pm4VL': {'weight': 2}})\n",
      "['mc2DR', 'mc2V']\n",
      "['mc2DR', 'mc2V']\n",
      "['I1L', 'I1R', 'I2R', 'I3', 'M4', 'MI']\n",
      "['ADAL', 'ADEL', 'ADER', 'ADFL', 'ADFR', 'ADLL', 'ADLR', 'AFDL', 'AFDR', 'AIAL']\n",
      "['ADAL', 'ADAR', 'ADEL', 'ADER', 'ADFL', 'ADFR', 'ADLL', 'ADLR', 'AFDL', 'AFDR']\n"
     ]
    }
   ],
   "source": [
    "print(next(connectome.adjacency()))\n",
    "test_neuron = \"MCL\"\n",
    "print(list(connectome.neighbors(test_neuron)))\n",
    "print(list(connectome.successors(test_neuron)))\n",
    "print(list(connectome.predecessors(test_neuron)))\n",
    "print(sorted(list(connectome.nodes))[:10])\n",
    "print(neuron_names[:10])\n"
   ]
  },
  {
   "cell_type": "markdown",
   "metadata": {},
   "source": [
    "### Load in neuron traces"
   ]
  },
  {
   "cell_type": "code",
   "execution_count": null,
   "metadata": {},
   "outputs": [],
   "source": [
    "traces = scipy.io.loadmat('datasets/1554.mat') # These are traces from rat brains. Do not use for anything other than testing."
   ]
  },
  {
   "cell_type": "code",
   "execution_count": null,
   "metadata": {},
   "outputs": [
    {
     "name": "stdout",
     "output_type": "stream",
     "text": [
      "(125000, 6)\n",
      "[ 0.016398  0.018987  0.021252 ... -0.140231 -0.143467 -0.145085]\n",
      "125000\n"
     ]
    }
   ],
   "source": [
    "print(np.shape(traces.get(\"rawdata\")))\n",
    "print(traces.get(\"rawdata\")[:,5])\n",
    "print(len(traces.get(\"rawdata\")[:,5]))"
   ]
  },
  {
   "cell_type": "code",
   "execution_count": null,
   "metadata": {},
   "outputs": [
    {
     "data": {
      "image/png": "[encoded data removed]",
      "text/plain": [
       "<Figure size 640x480 with 1 Axes>"
      ]
     },
     "metadata": {},
     "output_type": "display_data"
    }
   ],
   "source": [
    "plot_acf(traces.get(\"rawdata\")[:,5], lags=500)\n",
    "plt.show()"
   ]
  },
  {
   "cell_type": "code",
   "execution_count": null,
   "metadata": {},
   "outputs": [],
   "source": [
    "# fake data (just for testing optimization - results from this are meaningless)\n",
    "\n",
    "def get_fake_trace():\n",
    "    channel = np.random.randint(1,6)\n",
    "    return traces.get(\"rawdata\")[:,channel]\n",
    "\n",
    "fake_traces = {}\n",
    "for neuron in neuron_names:\n",
    "    fake_traces[neuron] = get_fake_trace()"
   ]
  },
  {
   "cell_type": "code",
   "execution_count": null,
   "metadata": {},
   "outputs": [
    {
     "name": "stdout",
     "output_type": "stream",
     "text": [
      "[0.01195  0.013567 0.015831 0.017124 0.018094 0.019388 0.020682 0.022298\n",
      " 0.023592 0.025209]\n",
      "<class 'numpy.ndarray'>\n"
     ]
    }
   ],
   "source": [
    "print(fake_traces['I1L'][:10])\n",
    "print(type(fake_traces['I1L'][:10]))"
   ]
  },
  {
   "cell_type": "markdown",
   "metadata": {},
   "source": [
    "### A generated fake thing to test fitting on"
   ]
  },
  {
   "cell_type": "code",
   "execution_count": null,
   "metadata": {},
   "outputs": [],
   "source": []
  },
  {
   "cell_type": "markdown",
   "metadata": {},
   "source": [
    "### The Model"
   ]
  },
  {
   "cell_type": "code",
   "execution_count": null,
   "metadata": {},
   "outputs": [],
   "source": [
    "DEFAULT_WINDOW_WIDTH = 20\n",
    "DEFAULT_SELF_RETENTION = 1      # 0 corresponds with completely linear"
   ]
  },
  {
   "cell_type": "code",
   "execution_count": null,
   "metadata": {},
   "outputs": [],
   "source": [
    "def get_relevant_neurons(neuron):\n",
    "    return sorted(list(set().union([neuron], connectome.successors(neuron), connectome.predecessors(neuron))))"
   ]
  },
  {
   "cell_type": "code",
   "execution_count": null,
   "metadata": {},
   "outputs": [
    {
     "name": "stdout",
     "output_type": "stream",
     "text": [
      "9\n",
      "['I1L', 'I1R', 'I2R', 'I3', 'M4', 'MCL', 'MI', 'mc2DR', 'mc2V']\n"
     ]
    }
   ],
   "source": [
    "print(len(get_relevant_neurons(test_neuron)))\n",
    "print(get_relevant_neurons(test_neuron))"
   ]
  },
  {
   "cell_type": "code",
   "execution_count": null,
   "metadata": {},
   "outputs": [],
   "source": [
    "def get_relevant_history_vector(traces, neuron, t, w=DEFAULT_WINDOW_WIDTH):\n",
    "    if t-w < 0:\n",
    "        raise ValueError(f'Cannot construct large enough relevant history vector: time t = {t} is too early.')\n",
    "    relevant_neurons = get_relevant_neurons(neuron)\n",
    "    history = np.concatenate([traces[n][t-w:t] for n in relevant_neurons])\n",
    "    return history"
   ]
  },
  {
   "cell_type": "code",
   "execution_count": null,
   "metadata": {},
   "outputs": [
    {
     "name": "stdout",
     "output_type": "stream",
     "text": [
      "180\n",
      "[0.037174 0.036528 0.034911 0.033294 0.031677 0.030707 0.028766 0.027796\n",
      " 0.027149 0.026503 0.025856 0.025209 0.024562 0.023915 0.023592 0.022945\n",
      " 0.022945 0.023269 0.023915 0.024562 0.062037 0.058155 0.054272 0.05136\n",
      " 0.048125 0.045213 0.042301 0.039066 0.03583  0.032271 0.029036 0.02483\n",
      " 0.021918 0.019006 0.016418 0.013506 0.010594 0.007358 0.004123 0.000887\n",
      " 0.01834  0.016398 0.014457 0.012515 0.010573 0.008632 0.007337 0.00669\n",
      " 0.00669  0.00669  0.007337 0.007337 0.007013 0.006366 0.005719 0.004101\n",
      " 0.00313  0.002159 0.002159 0.002159 0.062037 0.058155 0.054272 0.05136\n",
      " 0.048125 0.045213 0.042301 0.039066 0.03583  0.032271 0.029036 0.02483\n",
      " 0.021918 0.019006 0.016418 0.013506 0.010594 0.007358 0.004123 0.000887\n",
      " 0.135818 0.140024 0.143584 0.146172 0.148114 0.148761 0.148114 0.146172\n",
      " 0.14326  0.140995 0.137759 0.134523 0.13064  0.125139 0.119315 0.110902\n",
      " 0.100547 0.088898 0.077572 0.067217 0.01834  0.016398 0.014457 0.012515\n",
      " 0.010573 0.008632 0.007337 0.00669  0.00669  0.00669  0.007337 0.007337\n",
      " 0.007013 0.006366 0.005719 0.004101 0.00313  0.002159 0.002159 0.002159\n",
      " 0.062037 0.058155 0.054272 0.05136  0.048125 0.045213 0.042301 0.039066\n",
      " 0.03583  0.032271 0.029036 0.02483  0.021918 0.019006 0.016418 0.013506\n",
      " 0.010594 0.007358 0.004123 0.000887 0.106399 0.104135 0.101224 0.098636\n",
      " 0.095725 0.092814 0.090873 0.087962 0.085375 0.082463 0.079876 0.076965\n",
      " 0.074053 0.071466 0.069202 0.067261 0.064997 0.063379 0.061439 0.059498\n",
      " 0.106399 0.104135 0.101224 0.098636 0.095725 0.092814 0.090873 0.087962\n",
      " 0.085375 0.082463 0.079876 0.076965 0.074053 0.071466 0.069202 0.067261\n",
      " 0.064997 0.063379 0.061439 0.059498]\n"
     ]
    }
   ],
   "source": [
    "print(len(get_relevant_history_vector(fake_traces, test_neuron, 100)))\n",
    "print(get_relevant_history_vector(fake_traces, test_neuron, 100))"
   ]
  },
  {
   "cell_type": "code",
   "execution_count": null,
   "metadata": {},
   "outputs": [],
   "source": [
    "def get_self_retention_vector(traces, neuron, t, r=DEFAULT_SELF_RETENTION):\n",
    "    if t-r < 0:\n",
    "        raise ValueError(f'Cannot construct large enough self-retention vector: time t = {t} is too early.')\n",
    "    return np.concatenate(([1],traces[neuron][t-r:t]))"
   ]
  },
  {
   "cell_type": "code",
   "execution_count": null,
   "metadata": {},
   "outputs": [
    {
     "name": "stdout",
     "output_type": "stream",
     "text": [
      "[1.       0.002159]\n"
     ]
    }
   ],
   "source": [
    "print(get_self_retention_vector(fake_traces, test_neuron, 100))"
   ]
  },
  {
   "cell_type": "code",
   "execution_count": null,
   "metadata": {},
   "outputs": [],
   "source": [
    "def next_value(update_matrix, traces, neuron, t, w=DEFAULT_WINDOW_WIDTH, r=DEFAULT_SELF_RETENTION):\n",
    "    rhv = get_relevant_history_vector(traces, neuron, t, w)\n",
    "    srv = get_self_retention_vector(traces, neuron, t, r)\n",
    "    if update_matrix.shape != (len(rhv),len(srv)):\n",
    "        raise ValueError(f'Update failed for neuron {neuron} at time t = {t}: Update matrix has shape {update_matrix.shape} but needs shape {(len(rhv),len(srv))}.')\n",
    "    return rhv @ update_matrix @ srv.T"
   ]
  },
  {
   "cell_type": "code",
   "execution_count": null,
   "metadata": {},
   "outputs": [
    {
     "name": "stdout",
     "output_type": "stream",
     "text": [
      "78\n"
     ]
    }
   ],
   "source": [
    "a = np.array([[1,2,3],[4,5,6]])\n",
    "b = np.array([1,2])\n",
    "c = np.array([1,2,3])\n",
    "print(b @ a @ c.T)"
   ]
  },
  {
   "cell_type": "code",
   "execution_count": null,
   "metadata": {},
   "outputs": [
    {
     "data": {
      "text/plain": [
       "8.535194786313001"
      ]
     },
     "execution_count": 35,
     "metadata": {},
     "output_type": "execute_result"
    }
   ],
   "source": [
    "update_matrix = np.ones((180,2))\n",
    "next_value(update_matrix, fake_traces, test_neuron, 100)"
   ]
  }
 ],
 "metadata": {
  "kernelspec": {
   "display_name": "worms",
   "language": "python",
   "name": "python3"
  },
  "language_info": {
   "codemirror_mode": {
    "name": "ipython",
    "version": 3
   },
   "file_extension": ".py",
   "mimetype": "text/x-python",
   "name": "python",
   "nbconvert_exporter": "python",
   "pygments_lexer": "ipython3",
   "version": "3.11.5"
  },
  "orig_nbformat": 4
 },
 "nbformat": 4,
 "nbformat_minor": 2
}
