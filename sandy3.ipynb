{
 "cells": [
  {
   "cell_type": "code",
   "execution_count": 1,
   "metadata": {},
   "outputs": [],
   "source": [
    "import numpy as np\n",
    "import scipy.io\n",
    "import networkx as nx\n",
    "import pandas as pd\n",
    "from matplotlib import pyplot as plt\n",
    "import json"
   ]
  },
  {
   "cell_type": "markdown",
   "metadata": {},
   "source": [
    "### Build Connectome DiGraph"
   ]
  },
  {
   "cell_type": "code",
   "execution_count": 2,
   "metadata": {},
   "outputs": [],
   "source": [
    "def get_connectome(filepath, sheet_name):\n",
    "    excel_connectome = pd.read_excel(filepath, sheet_name)\n",
    "    table = excel_connectome.values[1:,2:]\n",
    "\n",
    "    neuron_names = set().union(table[1:,0], table[0,1:])\n",
    "    neuron_names = {x for x in neuron_names if x == x} #remove nans\n",
    "    neuron_names = sorted(list(neuron_names))\n",
    "\n",
    "    edge_list = []\n",
    "\n",
    "    def isnan(x):\n",
    "        return isinstance(x, float) and np.isnan(x)\n",
    "\n",
    "    for r in range(1,len(table)):\n",
    "        for c in range(1,len(table[r])):\n",
    "            if isnan(table[r][c]) or isnan(table[r][0]) or isnan(table[0][c]):\n",
    "                continue\n",
    "            edge_list.append((table[r][0], table[0][c], table[r][c]))\n",
    "\n",
    "    connectome = nx.DiGraph()\n",
    "    connectome.add_weighted_edges_from(edge_list)  # note that nodes with no edges will not be present in graph\n",
    "    return connectome\n",
    "\n",
    "# example:\n",
    "# get_connectome(\"datasets/NIHMS1054987-supplement-Supplementary_files/Supplementary Information/SI 5 Connectome adjacency matrices.xlsx\", sheet_name=\"male chemical\")"
   ]
  },
  {
   "cell_type": "code",
   "execution_count": 26,
   "metadata": {},
   "outputs": [],
   "source": [
    "CONNECTOME = get_connectome(\"datasets/NIHMS1054987-supplement-Supplementary_files/Supplementary Information/SI 5 Connectome adjacency matrices.xlsx\", sheet_name=\"male chemical\")"
   ]
  },
  {
   "cell_type": "code",
   "execution_count": 24,
   "metadata": {},
   "outputs": [],
   "source": [
    "fake_connectome = get_connectome('datasets/fake_test_data/fake_connectome.xlsx', 'S1S2N1')"
   ]
  },
  {
   "cell_type": "code",
   "execution_count": 28,
   "metadata": {},
   "outputs": [],
   "source": [
    "def load_trace_json(json_filepath):\n",
    "    with open(json_filepath) as trace_file:\n",
    "        return json.load(trace_file)\n",
    "\n",
    "# TODO: (if more than one format for trace data arises) create trace object and functions to load data from files into object.\n",
    "\n",
    "# def get_traces(json_filepath):\n",
    "#     with open(json_filepath) as trace_file:\n",
    "#         trace_json = json.load(trace_file)\n",
    "\n",
    "#     traces = np.array(trace_json['trace_array'])\n",
    "#     trace_indices = {}\n",
    "#     for i in range(trace_json['num_neurons']):\n",
    "#         if str(i+1) in trace_json['labeled']:\n",
    "#             trace_indices[trace_json['labeled'][str(i+1)]['label']] = i  # neurons are 1-indexed\n",
    "    \n",
    "#     return traces, trace_indices\n",
    "\n",
    "# example:\n",
    "# load_trace_json(\"datasets/wormwideweb/2022-08-02-01.json\")"
   ]
  },
  {
   "cell_type": "code",
   "execution_count": 38,
   "metadata": {},
   "outputs": [],
   "source": [
    "def get_relevant_mask(neuron, trace_json, connectome=CONNECTOME):\n",
    "    relevant_neurons = set().union([neuron], connectome.successors(neuron), connectome.predecessors(neuron))\n",
    "    return np.array([str(i+1) in trace_json['labeled'] and trace_json['labeled'][str(i+1)]['label'] in relevant_neurons for i in range(trace_json['num_neurons'])])"
   ]
  },
  {
   "cell_type": "code",
   "execution_count": 41,
   "metadata": {},
   "outputs": [
    {
     "name": "stdout",
     "output_type": "stream",
     "text": [
      "[[ 6.63122658e-01  2.39315664e-01 -2.39315664e-01 -6.63122658e-01\n",
      "  -9.35016243e-01 -9.92708874e-01 -8.22983866e-01 -4.64723172e-01\n",
      "   6.43249060e-16  4.64723172e-01]\n",
      " [ 0.00000000e+00  0.00000000e+00  0.00000000e+00  0.00000000e+00\n",
      "   0.00000000e+00  0.00000000e+00  0.00000000e+00  0.00000000e+00\n",
      "   0.00000000e+00  0.00000000e+00]]\n"
     ]
    }
   ],
   "source": [
    "trace_json = load_trace_json('datasets/fake_test_data/fake_traces.json')\n",
    "relevant_mask = get_relevant_mask('S2', trace_json, fake_connectome)\n",
    "traces = np.array(trace_json['trace_array'])\n",
    "print(traces[relevant_mask][:,:10])"
   ]
  },
  {
   "cell_type": "code",
   "execution_count": null,
   "metadata": {},
   "outputs": [],
   "source": []
  }
 ],
 "metadata": {
  "kernelspec": {
   "display_name": "worms",
   "language": "python",
   "name": "python3"
  },
  "language_info": {
   "codemirror_mode": {
    "name": "ipython",
    "version": 3
   },
   "file_extension": ".py",
   "mimetype": "text/x-python",
   "name": "python",
   "nbconvert_exporter": "python",
   "pygments_lexer": "ipython3",
   "version": "3.11.5"
  }
 },
 "nbformat": 4,
 "nbformat_minor": 2
}
